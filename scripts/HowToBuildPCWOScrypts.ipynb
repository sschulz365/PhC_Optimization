{
 "cells": [
  {
   "cell_type": "heading",
   "metadata": {},
   "level": 1,
   "source": [
    "Hello, welcome to PCWO."
   ]
  },
  {
   "cell_type": "markdown",
   "metadata": {},
   "source": [
    "In this module, we will walk through running (and creating) a PCWO script. \n",
    "\n",
    "First off, we have to import a few programs that are available in the PCWO backend folder."
   ]
  },
  {
   "cell_type": "code",
   "execution_count": null,
   "metadata": {},
   "outputs": [],
   "source": [
    "import constraints \n",
    "from experiment import Experiment\n",
    "from spea_optimizer import SpeaOptimizer\n",
    "from photonicCrystalDesign import PhCWDesign\n",
    "from paretoFunctions import ParetoMaxFunction"
   ]
  },
  {
   "cell_type": "markdown",
   "metadata": {},
   "source": [
    "Next, we setup paths to our mpb installation, our Waveguide File, and an output for our mpb computations. \n",
    "\tNote, this output file will be reused every time our algorithms evaluate a PhC design."
   ]
  },
  {
   "cell_type": "code",
   "execution_count": null,
   "metadata": {},
   "outputs": [],
   "source": [
    "# absolute path to the mpb executable\n",
    "mpb = \"/Users/sean/documents/mpb-1.5/mpb/mpb\"\n",
    "# mpb = \"mpb\" # linux alternative\n",
    "\n",
    "# absolute path to the mpb waveguide input ctl\n",
    "inputFile = \"/Users/sean/UniversityOfOttawa/Photonics/PCWO/W1_2D_v04.ctl.txt\"\n",
    "\n",
    "# absolute path to the mpb output file\n",
    "outputFile = \"/Users/sean/UniversityOfOttawa/Photonics/PCWO/optimizerTestFile.txt\""
   ]
  },
  {
   "cell_type": "markdown",
   "metadata": {},
   "source": [
    "We automate our mpb execuations by wrapping them in an object called an Experiment. \n",
    "\n",
    "The various PCWO algorithms use these experiment objects to simulate a given instance of a Photonic Crystal Design."
   ]
  },
  {
   "cell_type": "code",
   "execution_count": null,
   "metadata": {},
   "outputs": [],
   "source": [
    "# we define a general experiment object\n",
    "# that we reuse whenever we need to make a command-line mpb call\n",
    "# see experiment.py for functionality\n",
    "experiment = Experiment(mpb, inputFile, outputFile)\n",
    "# ex.setParams(paramVector)\n",
    "experiment.setCalculationType('4') # accepts an int from 0 to 5\n",
    "experiment.setBand(23)"
   ]
  },
  {
   "cell_type": "code",
   "execution_count": null,
   "metadata": {},
   "outputs": [],
   "source": [
    ""
   ]
  }
 ],
 "metadata": {},
 "nbformat": 4,
 "nbformat_minor": 0
}