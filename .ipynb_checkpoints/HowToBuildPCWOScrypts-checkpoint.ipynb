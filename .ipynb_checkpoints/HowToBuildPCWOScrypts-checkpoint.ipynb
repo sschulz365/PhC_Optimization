{
 "cells": [
  {
   "cell_type": "markdown",
   "metadata": {},
   "source": [
    "# Hello, welcome to PCWO."
   ]
  },
  {
   "cell_type": "markdown",
   "metadata": {},
   "source": [
    "In this module, we will walk through running (and creating) a PCWO script. \n",
    "\n",
    "We are going to initialize our mp and ctl files, define the set of PhCW variables to optimize over, and then finally intiailize and run SPEA over these parameters.\n",
    "\n",
    "First off, we have to import a few programs that are available in the PCWO backend folder."
   ]
  },
  {
   "cell_type": "code",
   "execution_count": 1,
   "metadata": {
    "collapsed": true
   },
   "outputs": [],
   "source": [
    "from backend import constraints \n",
    "from backend.experiment import W1Experiment\n",
    "from backend.spea_optimizer import SpeaOptimizer\n",
    "from backend.photonicCrystalDesign import PhCWDesign\n",
    "from backend.paretoFunctions import ParetoMaxFunction"
   ]
  },
  {
   "cell_type": "markdown",
   "metadata": {},
   "source": [
    "Next, we record the paths to an mpb installation, a Waveguide File, and an output for our mpb computations which will be parsed.\n",
    "\tNote, this output file will be reused every time our algorithms evaluate a PhC design."
   ]
  },
  {
   "cell_type": "code",
   "execution_count": 2,
   "metadata": {
    "collapsed": true
   },
   "outputs": [],
   "source": [
    "# absolute path to the mpb executable\n",
    "mpb = \"/Users/sean/documents/mpb-1.5/mpb/mpb\"\n",
    "# mpb = \"mpb\" # depending on how mpb is installed, the assignment \"mpb\" may be all that is required\n",
    "# This was the case on an Ubuntu dist, I was testing on\n",
    "\n",
    "# absolute path to the mpb waveguide input ctl\n",
    "inputFile = \"/Users/sean/UniversityOfOttawa/Photonics/PCWO/W1_2D_v04.ctl.txt\"\n",
    "\n",
    "# absolute path to the mpb output file\n",
    "outputFile = \"/Users/sean/UniversityOfOttawa/Photonics/PCWO/optimizerTestFile.txt\""
   ]
  },
  {
   "cell_type": "markdown",
   "metadata": {},
   "source": [
    "We automate our mpb executions (usually done with terminal) by wrapping them in an object called an Experiment. \n",
    "\n",
    "The various PCWO algorithms use these experiment objects to simulate a given instance of a Photonic Crystal Design."
   ]
  },
  {
   "cell_type": "code",
   "execution_count": 3,
   "metadata": {
    "collapsed": true
   },
   "outputs": [],
   "source": [
    "# we define a general experiment object\n",
    "# that we reuse whenever we need to make a command-line mpb call\n",
    "# see experiment.py for functionality\n",
    "experiment = W1Experiment(mpb, inputFile, outputFile)\n",
    "# ex.setParams(paramVector)\n",
    "experiment.setCalculationType('4') # accepts an int from 0 to 5\n",
    "experiment.setBand(23)"
   ]
  },
  {
   "cell_type": "markdown",
   "metadata": {},
   "source": [
    "Now, we initialize our parameter map, load a set of predefined constraints from constraints.py in the backend folder, and store these values in a PhCWDesign object, with a score initialized to 0. Note, 'score' is not immediately useful for Optimization routines that use Pareto Functions."
   ]
  },
  {
   "cell_type": "code",
   "execution_count": 4,
   "metadata": {
    "collapsed": true
   },
   "outputs": [],
   "source": [
    "paramMap = {}\n",
    "paramMap[\"s1\"] = 0 # First row vertical shift\n",
    "paramMap[\"s2\"] = 0 # Second row vertical shift\n",
    "paramMap[\"s3\"] = 0 # Third row vertical shift\n",
    "#paramMap[\"p1\"] = 0 # First row horizontal shift\n",
    "#paramMap[\"p2\"] = 0 # Second row horizontal shift\n",
    "#paramMap[\"p3\"] = 0 # Third row horizontal shift\n",
    "paramMap[\"r0\"] = 0.3 # Default air-hole radius\n",
    "paramMap[\"r1\"] = 0.3 # Default first row radius\n",
    "paramMap[\"r2\"] = 0.3 # Default second row radius\n",
    "paramMap[\"r3\"] = 0.3 # Default third row radius\n",
    "\n",
    "# see constraints.py\n",
    "constraintFunctions = [constraints.latticeConstraintsLD]\n",
    "\n",
    "pcw = PhCWDesign(paramMap, 0, constraintFunctions)"
   ]
  },
  {
   "cell_type": "markdown",
   "metadata": {},
   "source": [
    "SPEA requires a pareto function, in order to compare pcw designs. Because we are going to use a pareto function in order to compare PhCW, we must establish whether we want to minimize or maximize objectives. We do this by using a key map. Similarily to in paramMap, only the terms that are added to this dictionary will be optimized for. \n",
    "\n",
    "We use a ParetoMaxFunction by convention. This function will invert objectives in the key map that have been specified as \"min\". In other words, if key_map[\"loss\"] = \"min\", then 1/loss will be evaluated and maximized.\n"
   ]
  },
  {
   "cell_type": "code",
   "execution_count": 5,
   "metadata": {
    "collapsed": true
   },
   "outputs": [],
   "source": [
    "#Initialize pareto function\n",
    "\n",
    "key_map = {}\n",
    "key_map[\"ng0\"] = \"max\"\n",
    "key_map[\"loss_at_ng0\"] = \"min\"\n",
    "\n",
    "pareto_function = ParetoMaxFunction(experiment, key_map)"
   ]
  },
  {
   "cell_type": "markdown",
   "metadata": {},
   "source": [
    "Now, we define the parameters for SPEA, because each PhCW takes a long time to simulate, one should be conservative with the population size and number of generations"
   ]
  },
  {
   "cell_type": "code",
   "execution_count": 6,
   "metadata": {
    "collapsed": true
   },
   "outputs": [],
   "source": [
    "#SPEA parameters\n",
    "\n",
    "max_generation = 10 # number of iterations of the SPEA algorithm\n",
    "population_size = 10 # number of solutions to consider \n",
    "pareto_archive_size = 8 # number of solutions to store after each generation\n",
    "tournament_selection_rate  = 5 # number of solutions to consider in crossover/mutation"
   ]
  },
  {
   "cell_type": "markdown",
   "metadata": {},
   "source": [
    "Finally, we will run our SPEA optimizer, and output results"
   ]
  },
  {
   "cell_type": "code",
   "execution_count": 7,
   "metadata": {
    "collapsed": false
   },
   "outputs": [
    {
     "name": "stdout",
     "output_type": "stream",
     "text": [
      "\n",
      "\n",
      "Generation 0\n",
      "DEBUG: Solution: {'r0': 0.4, 'r1': 0.299073, 'r2': 0.349714, 'r3': 0.253138, 's3': -0.012949, 's2': -0.000278, 's1': -0.0535}\n"
     ]
    },
    {
     "ename": "KeyboardInterrupt",
     "evalue": "",
     "output_type": "error",
     "traceback": [
      "\u001b[0;31m---------------------------------------------------------------------------\u001b[0m",
      "\u001b[0;31mKeyboardInterrupt\u001b[0m                         Traceback (most recent call last)",
      "\u001b[0;32m<ipython-input-7-3ae57878efcf>\u001b[0m in \u001b[0;36m<module>\u001b[0;34m()\u001b[0m\n\u001b[1;32m      3\u001b[0m \u001b[0moptimizer\u001b[0m \u001b[0;34m=\u001b[0m \u001b[0mSpeaOptimizer\u001b[0m\u001b[0;34m(\u001b[0m\u001b[0mpareto_function\u001b[0m\u001b[0;34m)\u001b[0m\u001b[0;34m\u001b[0m\u001b[0m\n\u001b[1;32m      4\u001b[0m \u001b[0;34m\u001b[0m\u001b[0m\n\u001b[0;32m----> 5\u001b[0;31m \u001b[0moptimizer\u001b[0m\u001b[0;34m.\u001b[0m\u001b[0moptimize\u001b[0m\u001b[0;34m(\u001b[0m\u001b[0mpopulation\u001b[0m\u001b[0;34m,\u001b[0m\u001b[0mmax_generation\u001b[0m\u001b[0;34m,\u001b[0m\u001b[0mtournament_selection_rate\u001b[0m\u001b[0;34m,\u001b[0m \u001b[0mpareto_archive_size\u001b[0m\u001b[0;34m)\u001b[0m\u001b[0;34m\u001b[0m\u001b[0m\n\u001b[0m",
      "\u001b[0;32m/Users/sean/GitHub/PCWO/backend/spea_optimizer.py\u001b[0m in \u001b[0;36moptimize\u001b[0;34m(self, population, max_generation, tournament_selection_rate, pareto_archive_size)\u001b[0m\n\u001b[1;32m     20\u001b[0m     \u001b[0;32mdef\u001b[0m \u001b[0moptimize\u001b[0m\u001b[0;34m(\u001b[0m\u001b[0mself\u001b[0m\u001b[0;34m,\u001b[0m \u001b[0mpopulation\u001b[0m\u001b[0;34m,\u001b[0m \u001b[0mmax_generation\u001b[0m\u001b[0;34m,\u001b[0m \u001b[0mtournament_selection_rate\u001b[0m\u001b[0;34m,\u001b[0m \u001b[0mpareto_archive_size\u001b[0m\u001b[0;34m)\u001b[0m\u001b[0;34m:\u001b[0m\u001b[0;34m\u001b[0m\u001b[0m\n\u001b[1;32m     21\u001b[0m         solutions = self.strength_pareto_evolutionary_algorithm(population, max_generation,\n\u001b[0;32m---> 22\u001b[0;31m                                             tournament_selection_rate, pareto_archive_size)\n\u001b[0m\u001b[1;32m     23\u001b[0m         \u001b[0;32mreturn\u001b[0m \u001b[0msolutions\u001b[0m\u001b[0;34m\u001b[0m\u001b[0m\n\u001b[1;32m     24\u001b[0m \u001b[0;34m\u001b[0m\u001b[0m\n",
      "\u001b[0;32m/Users/sean/GitHub/PCWO/backend/spea_optimizer.py\u001b[0m in \u001b[0;36mstrength_pareto_evolutionary_algorithm\u001b[0;34m(self, population, max_generation, tournament_selection_rate, pareto_archive_size)\u001b[0m\n\u001b[1;32m     53\u001b[0m                 \u001b[0;31m#objective_function_map = {}\u001b[0m\u001b[0;34m\u001b[0m\u001b[0;34m\u001b[0m\u001b[0m\n\u001b[1;32m     54\u001b[0m                 \u001b[0;32mprint\u001b[0m \u001b[0;34m\"DEBUG: Solution: \"\u001b[0m \u001b[0;34m+\u001b[0m \u001b[0mstr\u001b[0m\u001b[0;34m(\u001b[0m\u001b[0mpcw\u001b[0m\u001b[0;34m.\u001b[0m\u001b[0msolution_vector\u001b[0m\u001b[0;34m)\u001b[0m\u001b[0;34m\u001b[0m\u001b[0m\n\u001b[0;32m---> 55\u001b[0;31m                 \u001b[0mself\u001b[0m\u001b[0;34m.\u001b[0m\u001b[0mpareto_function\u001b[0m\u001b[0;34m.\u001b[0m\u001b[0mevaluate\u001b[0m\u001b[0;34m(\u001b[0m\u001b[0mpcw\u001b[0m\u001b[0;34m)\u001b[0m\u001b[0;34m\u001b[0m\u001b[0m\n\u001b[0m\u001b[1;32m     56\u001b[0m \u001b[0;34m\u001b[0m\u001b[0m\n\u001b[1;32m     57\u001b[0m \u001b[0;34m\u001b[0m\u001b[0m\n",
      "\u001b[0;32m/Users/sean/GitHub/PCWO/backend/paretoFunctions.py\u001b[0m in \u001b[0;36mevaluate\u001b[0;34m(self, pcw)\u001b[0m\n\u001b[1;32m     46\u001b[0m         \u001b[0;31m# currently using calc type 4 is required\u001b[0m\u001b[0;34m\u001b[0m\u001b[0;34m\u001b[0m\u001b[0m\n\u001b[1;32m     47\u001b[0m         \u001b[0;31m# experiment.setCalculationType(4)\u001b[0m\u001b[0;34m\u001b[0m\u001b[0;34m\u001b[0m\u001b[0m\n\u001b[0;32m---> 48\u001b[0;31m         \u001b[0mself\u001b[0m\u001b[0;34m.\u001b[0m\u001b[0mexperiment\u001b[0m\u001b[0;34m.\u001b[0m\u001b[0mperform\u001b[0m\u001b[0;34m(\u001b[0m\u001b[0;34m)\u001b[0m\u001b[0;34m\u001b[0m\u001b[0m\n\u001b[0m\u001b[1;32m     49\u001b[0m \u001b[0;34m\u001b[0m\u001b[0m\n\u001b[1;32m     50\u001b[0m         \u001b[0;31m# parse the objParams from the experiment\u001b[0m\u001b[0;34m\u001b[0m\u001b[0;34m\u001b[0m\u001b[0m\n",
      "\u001b[0;32m/Users/sean/GitHub/PCWO/backend/experiment.py\u001b[0m in \u001b[0;36mperform\u001b[0;34m(self)\u001b[0m\n\u001b[1;32m     42\u001b[0m             \u001b[0;31m# print self.mpb + self.calculationType + self.paramVectorString + ' %s > %s' %(self.inputFile, self.outputFile)\u001b[0m\u001b[0;34m\u001b[0m\u001b[0;34m\u001b[0m\u001b[0m\n\u001b[1;32m     43\u001b[0m             subprocess.call(self.mpb + self.split + \" Ks=\"+ str(self.ks) + \" Ke=\" + str(self.ke) + \" Kinterp=\" + str(self.kinterp) + self.calculationType + self.paramVectorString + ' %s > %s' %(self.inputFile, self.outputFile),\n\u001b[0;32m---> 44\u001b[0;31m                             shell=True, stdout=FNULL, stderr=subprocess.STDOUT)\n\u001b[0m\u001b[1;32m     45\u001b[0m \u001b[0;34m\u001b[0m\u001b[0m\n\u001b[1;32m     46\u001b[0m         \u001b[0;31m# set the parameters (as coded in the ctl with the format define-param) to values according to paramMap\u001b[0m\u001b[0;34m\u001b[0m\u001b[0;34m\u001b[0m\u001b[0m\n",
      "\u001b[0;32m/Library/Frameworks/Python.framework/Versions/2.7/lib/python2.7/subprocess.pyc\u001b[0m in \u001b[0;36mcall\u001b[0;34m(*popenargs, **kwargs)\u001b[0m\n\u001b[1;32m    520\u001b[0m     \u001b[0mretcode\u001b[0m \u001b[0;34m=\u001b[0m \u001b[0mcall\u001b[0m\u001b[0;34m(\u001b[0m\u001b[0;34m[\u001b[0m\u001b[0;34m\"ls\"\u001b[0m\u001b[0;34m,\u001b[0m \u001b[0;34m\"-l\"\u001b[0m\u001b[0;34m]\u001b[0m\u001b[0;34m)\u001b[0m\u001b[0;34m\u001b[0m\u001b[0m\n\u001b[1;32m    521\u001b[0m     \"\"\"\n\u001b[0;32m--> 522\u001b[0;31m     \u001b[0;32mreturn\u001b[0m \u001b[0mPopen\u001b[0m\u001b[0;34m(\u001b[0m\u001b[0;34m*\u001b[0m\u001b[0mpopenargs\u001b[0m\u001b[0;34m,\u001b[0m \u001b[0;34m**\u001b[0m\u001b[0mkwargs\u001b[0m\u001b[0;34m)\u001b[0m\u001b[0;34m.\u001b[0m\u001b[0mwait\u001b[0m\u001b[0;34m(\u001b[0m\u001b[0;34m)\u001b[0m\u001b[0;34m\u001b[0m\u001b[0m\n\u001b[0m\u001b[1;32m    523\u001b[0m \u001b[0;34m\u001b[0m\u001b[0m\n\u001b[1;32m    524\u001b[0m \u001b[0;34m\u001b[0m\u001b[0m\n",
      "\u001b[0;32m/Library/Frameworks/Python.framework/Versions/2.7/lib/python2.7/subprocess.pyc\u001b[0m in \u001b[0;36mwait\u001b[0;34m(self)\u001b[0m\n\u001b[1;32m   1382\u001b[0m             \u001b[0;32mwhile\u001b[0m \u001b[0mself\u001b[0m\u001b[0;34m.\u001b[0m\u001b[0mreturncode\u001b[0m \u001b[0;32mis\u001b[0m \u001b[0mNone\u001b[0m\u001b[0;34m:\u001b[0m\u001b[0;34m\u001b[0m\u001b[0m\n\u001b[1;32m   1383\u001b[0m                 \u001b[0;32mtry\u001b[0m\u001b[0;34m:\u001b[0m\u001b[0;34m\u001b[0m\u001b[0m\n\u001b[0;32m-> 1384\u001b[0;31m                     \u001b[0mpid\u001b[0m\u001b[0;34m,\u001b[0m \u001b[0msts\u001b[0m \u001b[0;34m=\u001b[0m \u001b[0m_eintr_retry_call\u001b[0m\u001b[0;34m(\u001b[0m\u001b[0mos\u001b[0m\u001b[0;34m.\u001b[0m\u001b[0mwaitpid\u001b[0m\u001b[0;34m,\u001b[0m \u001b[0mself\u001b[0m\u001b[0;34m.\u001b[0m\u001b[0mpid\u001b[0m\u001b[0;34m,\u001b[0m \u001b[0;36m0\u001b[0m\u001b[0;34m)\u001b[0m\u001b[0;34m\u001b[0m\u001b[0m\n\u001b[0m\u001b[1;32m   1385\u001b[0m                 \u001b[0;32mexcept\u001b[0m \u001b[0mOSError\u001b[0m \u001b[0;32mas\u001b[0m \u001b[0me\u001b[0m\u001b[0;34m:\u001b[0m\u001b[0;34m\u001b[0m\u001b[0m\n\u001b[1;32m   1386\u001b[0m                     \u001b[0;32mif\u001b[0m \u001b[0me\u001b[0m\u001b[0;34m.\u001b[0m\u001b[0merrno\u001b[0m \u001b[0;34m!=\u001b[0m \u001b[0merrno\u001b[0m\u001b[0;34m.\u001b[0m\u001b[0mECHILD\u001b[0m\u001b[0;34m:\u001b[0m\u001b[0;34m\u001b[0m\u001b[0m\n",
      "\u001b[0;32m/Library/Frameworks/Python.framework/Versions/2.7/lib/python2.7/subprocess.pyc\u001b[0m in \u001b[0;36m_eintr_retry_call\u001b[0;34m(func, *args)\u001b[0m\n\u001b[1;32m    474\u001b[0m     \u001b[0;32mwhile\u001b[0m \u001b[0mTrue\u001b[0m\u001b[0;34m:\u001b[0m\u001b[0;34m\u001b[0m\u001b[0m\n\u001b[1;32m    475\u001b[0m         \u001b[0;32mtry\u001b[0m\u001b[0;34m:\u001b[0m\u001b[0;34m\u001b[0m\u001b[0m\n\u001b[0;32m--> 476\u001b[0;31m             \u001b[0;32mreturn\u001b[0m \u001b[0mfunc\u001b[0m\u001b[0;34m(\u001b[0m\u001b[0;34m*\u001b[0m\u001b[0margs\u001b[0m\u001b[0;34m)\u001b[0m\u001b[0;34m\u001b[0m\u001b[0m\n\u001b[0m\u001b[1;32m    477\u001b[0m         \u001b[0;32mexcept\u001b[0m \u001b[0;34m(\u001b[0m\u001b[0mOSError\u001b[0m\u001b[0;34m,\u001b[0m \u001b[0mIOError\u001b[0m\u001b[0;34m)\u001b[0m \u001b[0;32mas\u001b[0m \u001b[0me\u001b[0m\u001b[0;34m:\u001b[0m\u001b[0;34m\u001b[0m\u001b[0m\n\u001b[1;32m    478\u001b[0m             \u001b[0;32mif\u001b[0m \u001b[0me\u001b[0m\u001b[0;34m.\u001b[0m\u001b[0merrno\u001b[0m \u001b[0;34m==\u001b[0m \u001b[0merrno\u001b[0m\u001b[0;34m.\u001b[0m\u001b[0mEINTR\u001b[0m\u001b[0;34m:\u001b[0m\u001b[0;34m\u001b[0m\u001b[0m\n",
      "\u001b[0;31mKeyboardInterrupt\u001b[0m: "
     ]
    }
   ],
   "source": [
    "population = SpeaOptimizer.createPopulation(population_size, pcw)\n",
    "\n",
    "optimizer = SpeaOptimizer(pareto_function)\n",
    "\n",
    "optimizer.optimize(population,max_generation,tournament_selection_rate, pareto_archive_size)"
   ]
  }
 ],
 "metadata": {
  "kernelspec": {
   "display_name": "Python 2",
   "language": "python",
   "name": "python2"
  },
  "language_info": {
   "codemirror_mode": {
    "name": "ipython",
    "version": 2
   },
   "file_extension": ".py",
   "mimetype": "text/x-python",
   "name": "python",
   "nbconvert_exporter": "python",
   "pygments_lexer": "ipython2",
   "version": "2.7.9"
  }
 },
 "nbformat": 4,
 "nbformat_minor": 0
}
