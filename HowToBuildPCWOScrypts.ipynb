{
 "cells": [
  {
   "cell_type": "markdown",
   "metadata": {},
   "source": [
    "# Hello, welcome to PCWO."
   ]
  },
  {
   "cell_type": "markdown",
   "metadata": {},
   "source": [
    "In this module, we will walk through running (and creating) a PCWO script. \n",
    "\n",
    "We are going to initialize our mp and ctl files, define the set of PhCW variables to optimize over, and then finally intiailize and run SPEA over these parameters.\n",
    "\n",
    "First off, we have to import a few programs that are available in the PCWO backend folder."
   ]
  },
  {
   "cell_type": "code",
   "execution_count": 1,
   "metadata": {
    "collapsed": true
   },
   "outputs": [],
   "source": [
    "from backend import constraints \n",
    "from backend.experiment import W1Experiment\n",
    "from backend.spea_optimizer import SpeaOptimizer\n",
    "from backend.photonicCrystalDesign import PhCWDesign\n",
    "from backend.paretoFunctions import ParetoMaxFunction"
   ]
  },
  {
   "cell_type": "markdown",
   "metadata": {},
   "source": [
    "Next, we record the paths to an mpb installation, a Waveguide File, and an output for our mpb computations which will be parsed.\n",
    "\tNote, this output file will be reused every time our algorithms evaluate a PhC design."
   ]
  },
  {
   "cell_type": "code",
   "execution_count": 2,
   "metadata": {
    "collapsed": true
   },
   "outputs": [],
   "source": [
    "# absolute path to the mpb executable\n",
    "mpb = \"/Users/sean/documents/mpb-1.5/mpb/mpb\"\n",
    "# mpb = \"mpb\" # depending on how mpb is installed, the assignment \"mpb\" may be all that is required\n",
    "# This was the case on an Ubuntu dist, I was testing on\n",
    "\n",
    "# absolute path to the mpb waveguide input ctl\n",
    "inputFile = \"/Users/sean/UniversityOfOttawa/Photonics/PCWO/W1_2D_v04.ctl.txt\"\n",
    "\n",
    "# absolute path to the mpb output file\n",
    "outputFile = \"/Users/sean/UniversityOfOttawa/Photonics/PCWO/optimizerTestFile.txt\""
   ]
  },
  {
   "cell_type": "markdown",
   "metadata": {},
   "source": [
    "We automate our mpb executions (usually done with terminal) by wrapping them in an object called an Experiment. \n",
    "\n",
    "The various PCWO algorithms use these experiment objects to simulate a given instance of a Photonic Crystal Design."
   ]
  },
  {
   "cell_type": "code",
   "execution_count": 3,
   "metadata": {
    "collapsed": true
   },
   "outputs": [],
   "source": [
    "# we define a general experiment object\n",
    "# that we reuse whenever we need to make a command-line mpb call\n",
    "# see experiment.py for functionality\n",
    "experiment = W1Experiment(mpb, inputFile, outputFile)\n",
    "# ex.setParams(paramVector)\n",
    "experiment.setCalculationType('4') # accepts an int from 0 to 5\n",
    "experiment.setBand(23)"
   ]
  },
  {
   "cell_type": "markdown",
   "metadata": {},
   "source": [
    "Now, we initialize our parameter map, load a set of predefined constraints from constraints.py in the backend folder, and store these values in a PhCWDesign object, with a score initialized to 0. Note, 'score' is not immediately useful for Optimization routines that use Pareto Functions."
   ]
  },
  {
   "cell_type": "code",
   "execution_count": 4,
   "metadata": {
    "collapsed": true
   },
   "outputs": [],
   "source": [
    "paramMap = {}\n",
    "paramMap[\"s1\"] = 0 # First row vertical shift\n",
    "paramMap[\"s2\"] = 0 # Second row vertical shift\n",
    "paramMap[\"s3\"] = 0 # Third row vertical shift\n",
    "#paramMap[\"p1\"] = 0 # First row horizontal shift\n",
    "#paramMap[\"p2\"] = 0 # Second row horizontal shift\n",
    "#paramMap[\"p3\"] = 0 # Third row horizontal shift\n",
    "paramMap[\"r0\"] = 0.3 # Default air-hole radius\n",
    "paramMap[\"r1\"] = 0.3 # Default first row radius\n",
    "paramMap[\"r2\"] = 0.3 # Default second row radius\n",
    "paramMap[\"r3\"] = 0.3 # Default third row radius\n",
    "\n",
    "# see constraints.py\n",
    "constraintFunctions = [constraints.latticeConstraintsLD]\n",
    "\n",
    "pcw = PhCWDesign(paramMap, 0, constraintFunctions)"
   ]
  },
  {
   "cell_type": "markdown",
   "metadata": {},
   "source": [
    "SPEA requires a pareto function, in order to compare pcw designs. Because we are going to use a pareto function in order to compare PhCW, we must establish whether we want to minimize or maximize objectives. We do this by using a key map. Similarily to in paramMap, only the terms that are added to this dictionary will be optimized for. \n",
    "\n",
    "We use a ParetoMaxFunction by convention. This function will invert objectives in the key map that have been specified as \"min\". In other words, if key_map[\"loss\"] = \"min\", then 1/loss will be evaluated and maximized.\n"
   ]
  },
  {
   "cell_type": "code",
   "execution_count": 5,
   "metadata": {
    "collapsed": true
   },
   "outputs": [],
   "source": [
    "#Initialize pareto function\n",
    "\n",
    "key_map = {}\n",
    "key_map[\"ng0\"] = \"max\"\n",
    "key_map[\"loss_at_ng0\"] = \"min\"\n",
    "\n",
    "pareto_function = ParetoMaxFunction(experiment, key_map)"
   ]
  },
  {
   "cell_type": "markdown",
   "metadata": {},
   "source": [
    "Now, we define the parameters for SPEA, because each PhCW takes a long time to simulate, one should be conservative with the population size and number of generations"
   ]
  },
  {
   "cell_type": "code",
   "execution_count": 6,
   "metadata": {
    "collapsed": true
   },
   "outputs": [],
   "source": [
    "#SPEA parameters\n",
    "\n",
    "max_generation = 10 # number of iterations of the SPEA algorithm\n",
    "population_size = 10 # number of solutions to consider \n",
    "pareto_archive_size = 8 # number of solutions to store after each generation\n",
    "tournament_selection_rate  = 5 # number of solutions to consider in crossover/mutation"
   ]
  },
  {
   "cell_type": "markdown",
   "metadata": {},
   "source": [
    "Finally, we will run our SPEA optimizer, and output results"
   ]
  },
  {
   "cell_type": "code",
   "execution_count": null,
   "metadata": {
    "collapsed": false
   },
   "outputs": [
    {
     "name": "stdout",
     "output_type": "stream",
     "text": [
      "\n",
      "\n",
      "Generation 0\n",
      "DEBUG: Solution: {'r0': 0.270008, 'r1': 0.205227, 'r2': 0.256506, 'r3': 0.251328, 's3': -0.000852, 's2': 0.054554, 's1': -0.000944}\n",
      "DEBUG: Loss Map: {1: 2.076299648552558, 2: 2.2798491892229853, 3: 2.520919933996712, 4: 2.8169831980313917, 5: 3.176913366219006, 6: 3.63096123685643, 7: 4.207207620789227, 8: 4.937056992832557, 9: 5.896219447009731, 10: 7.130777042013955, 11: 8.681537474977759, 12: 10.600152794474722, 13: 12.783482819654653, 14: 15.04419056340236, 15: 16.978180911591572, 16: 18.414626062450395, 17: 18.936034516402493, 18: 18.56572176581745, 19: 17.61048578762895, 20: 16.75273709823712, 21: 17.32158514826194, 22: 20.70037902461481, 23: 29.49464686229156, 24: 45.89185085122796, 25: 73.80402865290725, 26: 118.73895860083422, 27: 189.41809803704172, 28: 296.4021104173179, 29: 456.9949288354591, 30: 701.1656604538191, 31: 1065.7297349261523, 32: 1622.268605910326, 33: 2551.740635012967, 34: 3877.980587867238, 35: 6017.417613556365, 36: 9933.57858598761, 37: 18155.551902867486, 38: 34152.741366621754, 39: 84602.09482825726, 40: 356743.7585143779, 41: 534052787.3540153}"
     ]
    }
   ],
   "source": [
    "population = SpeaOptimizer.createPopulation(population_size, pcw)\n",
    "\n",
    "optimizer = SpeaOptimizer(pareto_function)\n",
    "\n",
    "optimizer.optimize(population,max_generation,tournament_selection_rate, pareto_archive_size)"
   ]
  }
 ],
 "metadata": {
  "kernelspec": {
   "display_name": "Python 2",
   "language": "python",
   "name": "python2"
  },
  "language_info": {
   "codemirror_mode": {
    "name": "ipython",
    "version": 2
   },
   "file_extension": ".py",
   "mimetype": "text/x-python",
   "name": "python",
   "nbconvert_exporter": "python",
   "pygments_lexer": "ipython2",
   "version": "2.7.9"
  }
 },
 "nbformat": 4,
 "nbformat_minor": 0
}
